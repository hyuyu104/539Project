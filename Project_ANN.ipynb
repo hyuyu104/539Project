{
  "nbformat": 4,
  "nbformat_minor": 0,
  "metadata": {
    "colab": {
      "name": "Project_ANN.ipynb",
      "provenance": []
    },
    "kernelspec": {
      "name": "python3",
      "display_name": "Python 3"
    },
    "language_info": {
      "name": "python"
    }
  },
  "cells": [
    {
      "cell_type": "code",
      "execution_count": 1,
      "metadata": {
        "colab": {
          "base_uri": "https://localhost:8080/"
        },
        "id": "L4YpDCpemou7",
        "outputId": "b6a95991-5393-4d18-f82e-eb3c1a6ca548"
      },
      "outputs": [
        {
          "output_type": "stream",
          "name": "stdout",
          "text": [
            "Drive already mounted at /content/test; to attempt to forcibly remount, call drive.mount(\"/content/test\", force_remount=True).\n"
          ]
        }
      ],
      "source": [
        "from google.colab import drive\n",
        "drive.mount(\"/content/test\")"
      ]
    },
    {
      "cell_type": "code",
      "source": [
        "import pandas as pd\n",
        "import numpy as np\n",
        "import matplotlib.pyplot as plt\n",
        "from sklearn.model_selection import train_test_split, cross_val_score\n",
        "from sklearn.naive_bayes import GaussianNB\n",
        "from sklearn.neighbors import KNeighborsClassifier\n",
        "from sklearn.decomposition import PCA\n",
        "from sklearn.metrics import confusion_matrix, plot_confusion_matrix, accuracy_score\n",
        "\n",
        "data1 = pd.read_csv(\"/content/test1.csv\", index_col = 0).T\n",
        "data2 = pd.read_csv(\"/content/test2.csv\", index_col = 0).T\n",
        "cell_types1 = pd.read_csv(\"/content/celltypes1.csv\", index_col = 0)\n",
        "cell_types2 = pd.read_csv(\"/content/celltypes2.csv\", index_col = 0)\n",
        "cell_types1.columns = [\"cell_type\"]\n",
        "cell_types2.columns = [\"cell_type\"]\n",
        "data = pd.concat([data1, data2])\n",
        "data.index = data.index.str.replace(r\"\\.\", \"-\", regex=True)\n",
        "cell_types = pd.concat([cell_types1, cell_types2])\n",
        "cell_types.index = data.index"
      ],
      "metadata": {
        "id": "cwBuUiFRm6t4"
      },
      "execution_count": 1,
      "outputs": []
    },
    {
      "cell_type": "code",
      "source": [
        "data_merged = pd.merge(data, cell_types, left_index=True, right_index=True)\n",
        "count_occur = data_merged.sum()\n",
        "# drop probes with no values\n",
        "data_merged = data_merged.drop(count_occur.keys()[count_occur == 0], axis=1)\n",
        "X, y = data_merged.iloc[:, :-1].values, data_merged[\"cell_type\"]\n",
        "y = np.unique(y, return_inverse=True)[1]\n",
        "X_train, X_test, y_train, y_test = train_test_split(X, y, test_size=0.1, stratify=y, random_state=1)"
      ],
      "metadata": {
        "id": "m9l_qMKEGOw-"
      },
      "execution_count": 2,
      "outputs": []
    },
    {
      "cell_type": "code",
      "source": [
        "import tensorflow as tf\n",
        "from tensorflow import keras\n",
        "y_train = keras.utils.to_categorical(y_train)\n",
        "y_test = keras.utils.to_categorical(y_test)"
      ],
      "metadata": {
        "id": "gYscQyEJpFKM"
      },
      "execution_count": 3,
      "outputs": []
    },
    {
      "cell_type": "code",
      "source": [
        "n_components = 15\n",
        "net = tf.keras.models.Sequential([\n",
        "    tf.keras.layers.Dense(15, input_dim=n_components, activation=\"relu\"),\n",
        "    tf.keras.layers.Dense(30, activation=\"relu\"),\n",
        "    tf.keras.layers.Dense(15, activation=\"relu\"),\n",
        "    tf.keras.layers.Dense(9, activation=\"softmax\"),\n",
        "])\n",
        "net.compile(loss=\"categorical_crossentropy\", optimizer=\"adam\", metrics=[\"accuracy\"])\n",
        "pca = PCA(n_components=n_components)\n",
        "net.fit(pca.fit_transform(X_train), y_train, epochs=50, batch_size=10, \n",
        "        validation_data=(pca.transform(X_test), y_test))"
      ],
      "metadata": {
        "colab": {
          "base_uri": "https://localhost:8080/"
        },
        "id": "U_2kXMuDnDyY",
        "outputId": "bf0e5952-4bad-4c88-c09f-56ee4e24a815"
      },
      "execution_count": 5,
      "outputs": [
        {
          "output_type": "stream",
          "name": "stdout",
          "text": [
            "Epoch 1/50\n",
            "588/588 [==============================] - 2s 3ms/step - loss: 1.9471 - accuracy: 0.6024 - val_loss: 0.7290 - val_accuracy: 0.7584\n",
            "Epoch 2/50\n",
            "588/588 [==============================] - 1s 2ms/step - loss: 0.5948 - accuracy: 0.7908 - val_loss: 0.6112 - val_accuracy: 0.8012\n",
            "Epoch 3/50\n",
            "588/588 [==============================] - 1s 2ms/step - loss: 0.4852 - accuracy: 0.8259 - val_loss: 0.5664 - val_accuracy: 0.8165\n",
            "Epoch 4/50\n",
            "588/588 [==============================] - 2s 3ms/step - loss: 0.4359 - accuracy: 0.8440 - val_loss: 0.5509 - val_accuracy: 0.8364\n",
            "Epoch 5/50\n",
            "588/588 [==============================] - 2s 3ms/step - loss: 0.4108 - accuracy: 0.8512 - val_loss: 0.5168 - val_accuracy: 0.8532\n",
            "Epoch 6/50\n",
            "588/588 [==============================] - 2s 4ms/step - loss: 0.3875 - accuracy: 0.8605 - val_loss: 0.4989 - val_accuracy: 0.8486\n",
            "Epoch 7/50\n",
            "588/588 [==============================] - 2s 3ms/step - loss: 0.3732 - accuracy: 0.8646 - val_loss: 0.5918 - val_accuracy: 0.8211\n",
            "Epoch 8/50\n",
            "588/588 [==============================] - 1s 2ms/step - loss: 0.3610 - accuracy: 0.8692 - val_loss: 0.4894 - val_accuracy: 0.8670\n",
            "Epoch 9/50\n",
            "588/588 [==============================] - 1s 2ms/step - loss: 0.3485 - accuracy: 0.8697 - val_loss: 0.5019 - val_accuracy: 0.8609\n",
            "Epoch 10/50\n",
            "588/588 [==============================] - 1s 2ms/step - loss: 0.3422 - accuracy: 0.8738 - val_loss: 0.4917 - val_accuracy: 0.8700\n",
            "Epoch 11/50\n",
            "588/588 [==============================] - 1s 2ms/step - loss: 0.3373 - accuracy: 0.8741 - val_loss: 0.4825 - val_accuracy: 0.8700\n",
            "Epoch 12/50\n",
            "588/588 [==============================] - 1s 2ms/step - loss: 0.3241 - accuracy: 0.8779 - val_loss: 0.5181 - val_accuracy: 0.8593\n",
            "Epoch 13/50\n",
            "588/588 [==============================] - 1s 2ms/step - loss: 0.3186 - accuracy: 0.8815 - val_loss: 0.5239 - val_accuracy: 0.8547\n",
            "Epoch 14/50\n",
            "588/588 [==============================] - 1s 2ms/step - loss: 0.3122 - accuracy: 0.8840 - val_loss: 0.4554 - val_accuracy: 0.8761\n",
            "Epoch 15/50\n",
            "588/588 [==============================] - 1s 2ms/step - loss: 0.3152 - accuracy: 0.8816 - val_loss: 0.4865 - val_accuracy: 0.8700\n",
            "Epoch 16/50\n",
            "588/588 [==============================] - 1s 2ms/step - loss: 0.3062 - accuracy: 0.8847 - val_loss: 0.5460 - val_accuracy: 0.8716\n",
            "Epoch 17/50\n",
            "588/588 [==============================] - 1s 2ms/step - loss: 0.3080 - accuracy: 0.8861 - val_loss: 0.4833 - val_accuracy: 0.8685\n",
            "Epoch 18/50\n",
            "588/588 [==============================] - 1s 2ms/step - loss: 0.3025 - accuracy: 0.8866 - val_loss: 0.5504 - val_accuracy: 0.8624\n",
            "Epoch 19/50\n",
            "588/588 [==============================] - 1s 2ms/step - loss: 0.2989 - accuracy: 0.8861 - val_loss: 0.4908 - val_accuracy: 0.8716\n",
            "Epoch 20/50\n",
            "588/588 [==============================] - 1s 2ms/step - loss: 0.2917 - accuracy: 0.8884 - val_loss: 0.5129 - val_accuracy: 0.8685\n",
            "Epoch 21/50\n",
            "588/588 [==============================] - 1s 2ms/step - loss: 0.2960 - accuracy: 0.8903 - val_loss: 0.4661 - val_accuracy: 0.8792\n",
            "Epoch 22/50\n",
            "588/588 [==============================] - 1s 2ms/step - loss: 0.2964 - accuracy: 0.8923 - val_loss: 0.5163 - val_accuracy: 0.8746\n",
            "Epoch 23/50\n",
            "588/588 [==============================] - 1s 2ms/step - loss: 0.2923 - accuracy: 0.8920 - val_loss: 0.4986 - val_accuracy: 0.8700\n",
            "Epoch 24/50\n",
            "588/588 [==============================] - 1s 2ms/step - loss: 0.2823 - accuracy: 0.8971 - val_loss: 0.4864 - val_accuracy: 0.8930\n",
            "Epoch 25/50\n",
            "588/588 [==============================] - 1s 2ms/step - loss: 0.2816 - accuracy: 0.8963 - val_loss: 0.5194 - val_accuracy: 0.8853\n",
            "Epoch 26/50\n",
            "588/588 [==============================] - 1s 2ms/step - loss: 0.2774 - accuracy: 0.8997 - val_loss: 0.5549 - val_accuracy: 0.8624\n",
            "Epoch 27/50\n",
            "588/588 [==============================] - 1s 2ms/step - loss: 0.2735 - accuracy: 0.8976 - val_loss: 0.5028 - val_accuracy: 0.8899\n",
            "Epoch 28/50\n",
            "588/588 [==============================] - 1s 2ms/step - loss: 0.2781 - accuracy: 0.8944 - val_loss: 0.5057 - val_accuracy: 0.8838\n",
            "Epoch 29/50\n",
            "588/588 [==============================] - 1s 2ms/step - loss: 0.2796 - accuracy: 0.8930 - val_loss: 0.4882 - val_accuracy: 0.8792\n",
            "Epoch 30/50\n",
            "588/588 [==============================] - 1s 2ms/step - loss: 0.2742 - accuracy: 0.9007 - val_loss: 0.5200 - val_accuracy: 0.8823\n",
            "Epoch 31/50\n",
            "588/588 [==============================] - 1s 2ms/step - loss: 0.2813 - accuracy: 0.8939 - val_loss: 0.5423 - val_accuracy: 0.8716\n",
            "Epoch 32/50\n",
            "588/588 [==============================] - 1s 2ms/step - loss: 0.2668 - accuracy: 0.9015 - val_loss: 0.5134 - val_accuracy: 0.8807\n",
            "Epoch 33/50\n",
            "588/588 [==============================] - 1s 2ms/step - loss: 0.2651 - accuracy: 0.9010 - val_loss: 0.5320 - val_accuracy: 0.8777\n",
            "Epoch 34/50\n",
            "588/588 [==============================] - 1s 2ms/step - loss: 0.2664 - accuracy: 0.8990 - val_loss: 0.5140 - val_accuracy: 0.8899\n",
            "Epoch 35/50\n",
            "588/588 [==============================] - 1s 2ms/step - loss: 0.2633 - accuracy: 0.9032 - val_loss: 0.5421 - val_accuracy: 0.8761\n",
            "Epoch 36/50\n",
            "588/588 [==============================] - 1s 2ms/step - loss: 0.2584 - accuracy: 0.9026 - val_loss: 0.5665 - val_accuracy: 0.8731\n",
            "Epoch 37/50\n",
            "588/588 [==============================] - 1s 2ms/step - loss: 0.2616 - accuracy: 0.9012 - val_loss: 0.5382 - val_accuracy: 0.8746\n",
            "Epoch 38/50\n",
            "588/588 [==============================] - 1s 2ms/step - loss: 0.2558 - accuracy: 0.9031 - val_loss: 0.5787 - val_accuracy: 0.8685\n",
            "Epoch 39/50\n",
            "588/588 [==============================] - 1s 2ms/step - loss: 0.2637 - accuracy: 0.9012 - val_loss: 0.5733 - val_accuracy: 0.8716\n",
            "Epoch 40/50\n",
            "588/588 [==============================] - 1s 2ms/step - loss: 0.2594 - accuracy: 0.9032 - val_loss: 0.5143 - val_accuracy: 0.8823\n",
            "Epoch 41/50\n",
            "588/588 [==============================] - 1s 2ms/step - loss: 0.2539 - accuracy: 0.9068 - val_loss: 0.5598 - val_accuracy: 0.8777\n",
            "Epoch 42/50\n",
            "588/588 [==============================] - 1s 2ms/step - loss: 0.2607 - accuracy: 0.8980 - val_loss: 0.5697 - val_accuracy: 0.8746\n",
            "Epoch 43/50\n",
            "588/588 [==============================] - 1s 2ms/step - loss: 0.2550 - accuracy: 0.9034 - val_loss: 0.5972 - val_accuracy: 0.8838\n",
            "Epoch 44/50\n",
            "588/588 [==============================] - 1s 2ms/step - loss: 0.2546 - accuracy: 0.9048 - val_loss: 0.5216 - val_accuracy: 0.8853\n",
            "Epoch 45/50\n",
            "588/588 [==============================] - 1s 2ms/step - loss: 0.2586 - accuracy: 0.9029 - val_loss: 0.5796 - val_accuracy: 0.8685\n",
            "Epoch 46/50\n",
            "588/588 [==============================] - 1s 2ms/step - loss: 0.2540 - accuracy: 0.9032 - val_loss: 0.5678 - val_accuracy: 0.8838\n",
            "Epoch 47/50\n",
            "588/588 [==============================] - 1s 2ms/step - loss: 0.2499 - accuracy: 0.9053 - val_loss: 0.6265 - val_accuracy: 0.8731\n",
            "Epoch 48/50\n",
            "588/588 [==============================] - 1s 2ms/step - loss: 0.2522 - accuracy: 0.9012 - val_loss: 0.6036 - val_accuracy: 0.8761\n",
            "Epoch 49/50\n",
            "588/588 [==============================] - 1s 2ms/step - loss: 0.2489 - accuracy: 0.9080 - val_loss: 0.5860 - val_accuracy: 0.8716\n",
            "Epoch 50/50\n",
            "588/588 [==============================] - 1s 2ms/step - loss: 0.2487 - accuracy: 0.9095 - val_loss: 0.6316 - val_accuracy: 0.8731\n"
          ]
        },
        {
          "output_type": "execute_result",
          "data": {
            "text/plain": [
              "<keras.callbacks.History at 0x7f13d7271e90>"
            ]
          },
          "metadata": {},
          "execution_count": 5
        }
      ]
    },
    {
      "cell_type": "code",
      "source": [
        "net.evaluate(pca.transform(X_test), y_test)\n"
      ],
      "metadata": {
        "colab": {
          "base_uri": "https://localhost:8080/"
        },
        "id": "Q8CMQYE_oLMO",
        "outputId": "7cc32e2c-a44b-4aa4-f5a6-660ea13ef9ce"
      },
      "execution_count": 6,
      "outputs": [
        {
          "output_type": "stream",
          "name": "stdout",
          "text": [
            "21/21 [==============================] - 0s 2ms/step - loss: 0.6316 - accuracy: 0.8731\n"
          ]
        },
        {
          "output_type": "execute_result",
          "data": {
            "text/plain": [
              "[0.6316456198692322, 0.8730886578559875]"
            ]
          },
          "metadata": {},
          "execution_count": 6
        }
      ]
    },
    {
      "cell_type": "code",
      "source": [
        "from keras.utils.vis_utils import plot_model\n",
        "plot_model(net, show_shapes=True, show_layer_names=True)"
      ],
      "metadata": {
        "colab": {
          "base_uri": "https://localhost:8080/",
          "height": 533
        },
        "id": "vXwNNHDzoYG4",
        "outputId": "84d86998-c9a9-44a3-87ec-cf5f7b30f76a"
      },
      "execution_count": 10,
      "outputs": [
        {
          "output_type": "execute_result",
          "data": {
            "image/png": "[encoded data removed]",
            "text/plain": [
              "<IPython.core.display.Image object>"
            ]
          },
          "metadata": {},
          "execution_count": 10
        }
      ]
    },
    {
      "cell_type": "code",
      "source": [
        "fig, ax = plt.subplots(figsize=(10, 10))\n",
        "plot_confusion_matrix(knn, pca.transform(X_test), y_test, labels = np.unique(y_test), ax=ax)\n",
        "ax.set_title(\"Figure 5: kNN Classifier Confusion Matrix\")"
      ],
      "metadata": {
        "id": "pNNOY1sfqgvo"
      },
      "execution_count": null,
      "outputs": []
    },
    {
      "cell_type": "markdown",
      "source": [
        "#### MoE"
      ],
      "metadata": {
        "id": "M_3H4tF23Ibi"
      }
    },
    {
      "cell_type": "code",
      "source": [
        "from sklearn.cluster import KMeans\n",
        "from sklearn.svm import SVC\n",
        "from sklearn.preprocessing import StandardScaler\n",
        "from sklearn.tree import DecisionTreeClassifier\n",
        "from sklearn.model_selection import StratifiedKFold\n",
        "\n",
        "X_train, X_test, y_train, y_test = train_test_split(X, y, test_size=0.1, stratify=y, random_state=1)"
      ],
      "metadata": {
        "id": "zsKJvb4eSAdB"
      },
      "execution_count": 4,
      "outputs": []
    },
    {
      "cell_type": "code",
      "source": [
        "# Naive, SVC\n",
        "def moe_score(X_train, X_test, y_train, y_test):\n",
        "  n_components = 15\n",
        "  pca = PCA(n_components=n_components)\n",
        "  X_tra_train = pca.fit_transform(X_train)\n",
        "  X_tra_test = pca.transform(X_test)\n",
        "\n",
        "  C = 2\n",
        "  kmeans = KMeans(n_clusters=C, random_state=0).fit(X_tra_train)\n",
        "  idx = kmeans.labels_\n",
        "  gNet = GaussianNB().fit(X_tra_train, idx)\n",
        "\n",
        "  Exp = []\n",
        "  for k in range(C):\n",
        "    Exp.append(SVC(kernel=\"linear\").fit(X_tra_train[idx==k], y_train[idx==k]))\n",
        "\n",
        "  idx_pred = gNet.predict(X_tra_test)\n",
        "  results = np.empty((X_tra_test.shape[0], 1), dtype=int)\n",
        "  for k in range(C):\n",
        "      results[idx_pred==k] = np.reshape(Exp[k].predict(X_tra_test[idx_pred==k]), (-1, 1))\n",
        "  print(\"accuracy: \", accuracy_score(y_test, results.flatten()))\n",
        "  for k in range(C):\n",
        "    print(f'Expert #{k}\\n',accuracy_score(y_test[idx_pred==k],results[idx_pred==k]))\n",
        "  return accuracy_score(y_test, results.flatten())\n",
        "\n",
        "skf = StratifiedKFold(n_splits=10)\n",
        "scores = [moe_score(X[a, :], X[b, :], y[a], y[b]) for a, b in skf.split(X, y)]"
      ],
      "metadata": {
        "id": "IhdiPsNv3JwR",
        "colab": {
          "base_uri": "https://localhost:8080/"
        },
        "outputId": "b9533e97-2938-404b-cd76-449add730d9a"
      },
      "execution_count": 8,
      "outputs": [
        {
          "output_type": "stream",
          "name": "stdout",
          "text": [
            "accuracy:  0.8715596330275229\n",
            "Expert #0\n",
            " 0.8663967611336032\n",
            "Expert #1\n",
            " 0.8875\n",
            "accuracy:  0.8807339449541285\n",
            "Expert #0\n",
            " 0.8823529411764706\n",
            "Expert #1\n",
            " 0.8757763975155279\n",
            "accuracy:  0.8944954128440367\n",
            "Expert #0\n",
            " 0.884393063583815\n",
            "Expert #1\n",
            " 0.8981288981288982\n",
            "accuracy:  0.8776758409785933\n",
            "Expert #0\n",
            " 0.8940936863543788\n",
            "Expert #1\n",
            " 0.8282208588957055\n",
            "accuracy:  0.886676875957121\n",
            "Expert #0\n",
            " 0.8543046357615894\n",
            "Expert #1\n",
            " 0.896414342629482\n",
            "accuracy:  0.877488514548239\n",
            "Expert #0\n",
            " 0.9019607843137255\n",
            "Expert #1\n",
            " 0.87\n",
            "accuracy:  0.8805513016845329\n",
            "Expert #0\n",
            " 0.892\n",
            "Expert #1\n",
            " 0.8431372549019608\n",
            "accuracy:  0.8805513016845329\n",
            "Expert #0\n",
            " 0.8533333333333334\n",
            "Expert #1\n",
            " 0.8886679920477137\n",
            "accuracy:  0.885145482388974\n",
            "Expert #0\n",
            " 0.8903225806451613\n",
            "Expert #1\n",
            " 0.8835341365461847\n",
            "accuracy:  0.885145482388974\n",
            "Expert #0\n",
            " 0.8857142857142857\n",
            "Expert #1\n",
            " 0.8834355828220859\n"
          ]
        }
      ]
    },
    {
      "cell_type": "code",
      "source": [
        "np.mean(scores)"
      ],
      "metadata": {
        "colab": {
          "base_uri": "https://localhost:8080/"
        },
        "id": "V-EnPf4oKBie",
        "outputId": "c005dc39-bb80-4ad6-b34f-9f7b4721f1fd"
      },
      "execution_count": 12,
      "outputs": [
        {
          "output_type": "execute_result",
          "data": {
            "text/plain": [
              "0.8820023790456656"
            ]
          },
          "metadata": {},
          "execution_count": 12
        }
      ]
    },
    {
      "cell_type": "code",
      "source": [
        "# Naive, Naive\n",
        "def moe_score(X_train, X_test, y_train, y_test):\n",
        "  n_components = 15\n",
        "  pca = PCA(n_components=n_components)\n",
        "  X_tra_train = pca.fit_transform(X_train)\n",
        "  X_tra_test = pca.transform(X_test)\n",
        "\n",
        "  C = 2\n",
        "  kmeans = KMeans(n_clusters=C, random_state=0).fit(X_tra_train)\n",
        "  idx = kmeans.labels_\n",
        "  gNet = GaussianNB().fit(X_tra_train, idx)\n",
        "\n",
        "  Exp = []\n",
        "  for k in range(C):\n",
        "    Exp.append(GaussianNB().fit(X_tra_train[idx==k], y_train[idx==k]))\n",
        "\n",
        "  idx_pred = gNet.predict(X_tra_test)\n",
        "  results = np.empty((X_tra_test.shape[0], 1), dtype=int)\n",
        "  for k in range(C):\n",
        "      results[idx_pred==k] = np.reshape(Exp[k].predict(X_tra_test[idx_pred==k]), (-1, 1))\n",
        "  print(\"accuracy: \", accuracy_score(y_test, results.flatten()))\n",
        "  for k in range(C):\n",
        "    print(f'Expert #{k}\\n',accuracy_score(y_test[idx_pred==k],results[idx_pred==k]))\n",
        "  return accuracy_score(y_test, results.flatten())\n",
        "\n",
        "skf = StratifiedKFold(n_splits=10)\n",
        "np.mean([moe_score(X[a, :], X[b, :], y[a], y[b]) for a, b in skf.split(X, y)])"
      ],
      "metadata": {
        "colab": {
          "base_uri": "https://localhost:8080/"
        },
        "id": "HIkDjYysK2kN",
        "outputId": "47b688ba-57eb-4e74-916e-8112211d5fcd"
      },
      "execution_count": 13,
      "outputs": [
        {
          "output_type": "stream",
          "name": "stdout",
          "text": [
            "accuracy:  0.7706422018348624\n",
            "Expert #0\n",
            " 0.7753036437246964\n",
            "Expert #1\n",
            " 0.75625\n",
            "accuracy:  0.7874617737003058\n",
            "Expert #0\n",
            " 0.7849898580121704\n",
            "Expert #1\n",
            " 0.7950310559006211\n",
            "accuracy:  0.77217125382263\n",
            "Expert #0\n",
            " 0.7906976744186046\n",
            "Expert #1\n",
            " 0.7655601659751037\n",
            "accuracy:  0.7935779816513762\n",
            "Expert #0\n",
            " 0.8020408163265306\n",
            "Expert #1\n",
            " 0.7682926829268293\n",
            "accuracy:  0.7595712098009189\n",
            "Expert #0\n",
            " 0.7549668874172185\n",
            "Expert #1\n",
            " 0.7609561752988048\n",
            "accuracy:  0.7626339969372129\n",
            "Expert #0\n",
            " 0.8366013071895425\n",
            "Expert #1\n",
            " 0.74\n",
            "accuracy:  0.777947932618683\n",
            "Expert #0\n",
            " 0.778\n",
            "Expert #1\n",
            " 0.7777777777777778\n",
            "accuracy:  0.7901990811638591\n",
            "Expert #0\n",
            " 0.7449664429530202\n",
            "Expert #1\n",
            " 0.8035714285714286\n",
            "accuracy:  0.7993874425727412\n",
            "Expert #0\n",
            " 0.8709677419354839\n",
            "Expert #1\n",
            " 0.7771084337349398\n",
            "accuracy:  0.77947932618683\n",
            "Expert #0\n",
            " 0.7693877551020408\n",
            "Expert #1\n",
            " 0.8098159509202454\n"
          ]
        },
        {
          "output_type": "execute_result",
          "data": {
            "text/plain": [
              "0.7793072200289419"
            ]
          },
          "metadata": {},
          "execution_count": 13
        }
      ]
    },
    {
      "cell_type": "code",
      "source": [
        "# MLP, SVC\n",
        "def moe_score(X_train, X_test, y_train, y_test):\n",
        "  n_components = 15\n",
        "  pca = PCA(n_components=n_components)\n",
        "  X_tra_train = pca.fit_transform(X_train)\n",
        "  X_tra_test = pca.transform(X_test)\n",
        "\n",
        "  C = 2\n",
        "  kmeans = KMeans(n_clusters=C, random_state=0).fit(X_tra_train)\n",
        "  idx = kmeans.labels_\n",
        "  net = tf.keras.models.Sequential([\n",
        "    tf.keras.layers.Dense(15, input_dim=n_components, activation=\"relu\"),\n",
        "    tf.keras.layers.Dense(30, activation=\"relu\"),\n",
        "    tf.keras.layers.Dense(15, activation=\"relu\"),\n",
        "    tf.keras.layers.Dense(C, activation=\"softmax\"),\n",
        "  ])\n",
        "  net.compile(loss=\"categorical_crossentropy\", optimizer=\"adam\", metrics=[\"accuracy\"])\n",
        "  net.fit(X_tra_train, keras.utils.to_categorical(idx), epochs=25, batch_size=10, verbose=0)\n",
        "\n",
        "  Exp = []\n",
        "  for k in range(C):\n",
        "    Exp.append(SVC(kernel=\"linear\").fit(X_tra_train[idx==k], y_train[idx==k]))\n",
        "\n",
        "  idx_pred = np.argmax(net.predict(X_tra_test), axis=1)\n",
        "  results = np.empty((X_tra_test.shape[0], 1), dtype=int)\n",
        "  for k in range(C):\n",
        "      results[idx_pred==k] = np.reshape(Exp[k].predict(X_tra_test[idx_pred==k]), (-1, 1))\n",
        "  print(\"accuracy: \", accuracy_score(y_test, results.flatten()))\n",
        "  for k in range(C):\n",
        "    print(f'Expert #{k}\\n',accuracy_score(y_test[idx_pred==k],results[idx_pred==k]))\n",
        "  return accuracy_score(y_test, results.flatten())\n",
        "\n",
        "skf = StratifiedKFold(n_splits=10)\n",
        "np.mean([moe_score(X[a, :], X[b, :], y[a], y[b]) for a, b in skf.split(X, y)])"
      ],
      "metadata": {
        "colab": {
          "base_uri": "https://localhost:8080/"
        },
        "id": "4aZ6IXltYOOu",
        "outputId": "e3e2eeb2-b0a0-4c12-8602-1445f49a6f12"
      },
      "execution_count": 14,
      "outputs": [
        {
          "output_type": "stream",
          "name": "stdout",
          "text": [
            "accuracy:  0.8730886850152905\n",
            "Expert #0\n",
            " 0.8848758465011287\n",
            "Expert #1\n",
            " 0.8483412322274881\n",
            "accuracy:  0.8853211009174312\n",
            "Expert #0\n",
            " 0.8984547461368654\n",
            "Expert #1\n",
            " 0.8557213930348259\n",
            "accuracy:  0.8975535168195719\n",
            "Expert #0\n",
            " 0.8761061946902655\n",
            "Expert #1\n",
            " 0.9088785046728972\n",
            "accuracy:  0.882262996941896\n",
            "Expert #0\n",
            " 0.8972602739726028\n",
            "Expert #1\n",
            " 0.8518518518518519\n",
            "accuracy:  0.891271056661562\n",
            "Expert #0\n",
            " 0.8549222797927462\n",
            "Expert #1\n",
            " 0.9065217391304348\n",
            "accuracy:  0.8744257274119449\n",
            "Expert #0\n",
            " 0.8768472906403941\n",
            "Expert #1\n",
            " 0.8733333333333333\n",
            "accuracy:  0.885145482388974\n",
            "Expert #0\n",
            " 0.9004424778761062\n",
            "Expert #1\n",
            " 0.8507462686567164\n",
            "accuracy:  0.886676875957121\n",
            "Expert #0\n",
            " 0.8717948717948718\n",
            "Expert #1\n",
            " 0.8930131004366813\n",
            "accuracy:  0.877488514548239\n",
            "Expert #0\n",
            " 0.875\n",
            "Expert #1\n",
            " 0.8786516853932584\n",
            "accuracy:  0.886676875957121\n",
            "Expert #0\n",
            " 0.9024943310657596\n",
            "Expert #1\n",
            " 0.8537735849056604\n"
          ]
        },
        {
          "output_type": "execute_result",
          "data": {
            "text/plain": [
              "0.8839910832619152"
            ]
          },
          "metadata": {},
          "execution_count": 14
        }
      ]
    },
    {
      "cell_type": "code",
      "source": [
        "# Naive, SVC+MLP\n",
        "def moe_score(X_train, X_test, y_train, y_test):\n",
        "  n_components = 15\n",
        "  pca = PCA(n_components=n_components)\n",
        "  X_tra_train = pca.fit_transform(X_train)\n",
        "  X_tra_test = pca.transform(X_test)\n",
        "\n",
        "  C = 2\n",
        "  kmeans = KMeans(n_clusters=C, random_state=0).fit(X_tra_train)\n",
        "  idx = kmeans.labels_\n",
        "  gNet = GaussianNB().fit(X_tra_train, idx)\n",
        "\n",
        "  Exp_net = tf.keras.models.Sequential([\n",
        "    tf.keras.layers.Dense(15, input_dim=n_components, activation=\"relu\"),\n",
        "    tf.keras.layers.Dense(30, activation=\"relu\"),\n",
        "    tf.keras.layers.Dense(15, activation=\"relu\"),\n",
        "    tf.keras.layers.Dense(len(np.unique(y_train[idx==1])), activation=\"softmax\"),\n",
        "  ])\n",
        "  Exp_net.compile(loss=\"categorical_crossentropy\", optimizer=\"adam\", metrics=[\"accuracy\"])\n",
        "  Exp_net.fit(X_tra_train[idx==1], keras.utils.to_categorical(y_train[idx==1]), \n",
        "              epochs=50, batch_size=10, verbose=0)\n",
        "  Exp = [SVC(kernel=\"linear\").fit(X_tra_train[idx==0], y_train[idx==0]), Exp_net]\n",
        "\n",
        "  idx_pred = gNet.predict(X_tra_test)\n",
        "  results = np.empty((X_tra_test.shape[0], 1), dtype=int)\n",
        "  results[idx_pred==0] = np.reshape(Exp[0].predict(X_tra_test[idx_pred==0]), (-1, 1))\n",
        "  results[idx_pred==1] = np.reshape(np.argmax(Exp[1].predict(X_tra_test[idx_pred==1]), axis=1), (-1, 1))\n",
        "  print(\"accuracy: \", accuracy_score(y_test, results.flatten()))\n",
        "  for k in range(C):\n",
        "    print(f'Expert #{k}\\n',accuracy_score(y_test[idx_pred==k],results[idx_pred==k]))\n",
        "  return accuracy_score(y_test, results.flatten())\n",
        "\n",
        "skf = StratifiedKFold(n_splits=10)\n",
        "np.mean([moe_score(X[a, :], X[b, :], y[a], y[b]) for a, b in skf.split(X, y)])"
      ],
      "metadata": {
        "colab": {
          "base_uri": "https://localhost:8080/"
        },
        "id": "AFATlYxb37JL",
        "outputId": "02fa28bc-ab14-477d-c9b7-1af99ab6a3b9"
      },
      "execution_count": 5,
      "outputs": [
        {
          "output_type": "stream",
          "name": "stdout",
          "text": [
            "accuracy:  0.8486238532110092\n",
            "Expert #0\n",
            " 0.8663967611336032\n",
            "Expert #1\n",
            " 0.79375\n",
            "accuracy:  0.8593272171253823\n",
            "Expert #0\n",
            " 0.8825910931174089\n",
            "Expert #1\n",
            " 0.7875\n",
            "accuracy:  0.8776758409785933\n",
            "Expert #0\n",
            " 0.8850574712643678\n",
            "Expert #1\n",
            " 0.875\n",
            "accuracy:  0.882262996941896\n",
            "Expert #0\n",
            " 0.8940936863543788\n",
            "Expert #1\n",
            " 0.8466257668711656\n",
            "accuracy:  0.8575803981623277\n",
            "Expert #0\n",
            " 0.8543046357615894\n",
            "Expert #1\n",
            " 0.8585657370517928\n",
            "accuracy:  0.8820826952526799\n",
            "Expert #0\n",
            " 0.9019607843137255\n",
            "Expert #1\n",
            " 0.876\n",
            "accuracy:  0.8728943338437979\n",
            "Expert #0\n",
            " 0.892\n",
            "Expert #1\n",
            " 0.8104575163398693\n",
            "accuracy:  0.8575803981623277\n",
            "Expert #0\n",
            " 0.8523489932885906\n",
            "Expert #1\n",
            " 0.8591269841269841\n",
            "accuracy:  0.8698315467075038\n",
            "Expert #0\n",
            " 0.8903225806451613\n",
            "Expert #1\n",
            " 0.8634538152610441\n",
            "accuracy:  0.8744257274119449\n",
            "Expert #0\n",
            " 0.8859470468431772\n",
            "Expert #1\n",
            " 0.8395061728395061\n"
          ]
        },
        {
          "output_type": "execute_result",
          "data": {
            "text/plain": [
              "0.8682285007797462"
            ]
          },
          "metadata": {},
          "execution_count": 5
        }
      ]
    },
    {
      "cell_type": "code",
      "source": [
        "plt.barh(list(range(C)), [accuracy_score(y_test,y_exp[k]) for k in range(C)])\n",
        "plt.title(\"MoE Accuracy of Experts\")"
      ],
      "metadata": {
        "colab": {
          "base_uri": "https://localhost:8080/",
          "height": 298
        },
        "id": "qfETX2xK4DZi",
        "outputId": "beea4797-0182-4ffd-ba73-387062473294"
      },
      "execution_count": null,
      "outputs": [
        {
          "output_type": "execute_result",
          "data": {
            "text/plain": [
              "Text(0.5, 1.0, 'MoE Accuracy of Experts')"
            ]
          },
          "metadata": {},
          "execution_count": 56
        },
        {
          "output_type": "display_data",
          "data": {
            "text/plain": [
              "<Figure size 432x288 with 1 Axes>"
            ],
            "image/png": "[encoded data removed]"
          },
          "metadata": {
            "needs_background": "light"
          }
        }
      ]
    },
    {
      "cell_type": "code",
      "source": [
        ""
      ],
      "metadata": {
        "id": "j-alkXlt8Q0l"
      },
      "execution_count": null,
      "outputs": []
    }
  ]
}